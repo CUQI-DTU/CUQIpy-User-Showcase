{
 "cells": [
  {
   "cell_type": "code",
   "execution_count": null,
   "metadata": {},
   "outputs": [],
   "source": [
    "# -*- coding: utf-8 -*-\n",
    "#  Copyright 2023 Technical University of Denmark\n",
    "#\n",
    "#  Licensed under the Apache License, Version 2.0 (the \"License\");\n",
    "#  you may not use this file except in compliance with the License.\n",
    "#  You may obtain a copy of the License at\n",
    "#\n",
    "#      http://www.apache.org/licenses/LICENSE-2.0\n",
    "#\n",
    "#  Unless required by applicable law or agreed to in writing, software\n",
    "#  distributed under the License is distributed on an \"AS IS\" BASIS,\n",
    "#  WITHOUT WARRANTIES OR CONDITIONS OF ANY KIND, either express or implied.\n",
    "#  See the License for the specific language governing permissions and\n",
    "#  limitations under the License.\n",
    "#\n",
    "#   Authored by:  Felipe Uribe (LUT University)"
   ]
  },
  {
   "cell_type": "markdown",
   "metadata": {},
   "source": [
    "# Test problem: Parameter estimation in an ODE\n",
    "## By Felipe Uribe (felipe.uribe@lut.fi)\n",
    "\n",
    "In this notebook, we use CUQIpy to find the stiffness parameters of an undamped equation of motion (ODE). For this we have to define a new forward model, likelihood function, and sampler."
   ]
  },
  {
   "cell_type": "markdown",
   "metadata": {},
   "source": [
    "Before getting started we have to import the Python packages we need. Here we also import CUQIpy (cuqi)."
   ]
  },
  {
   "cell_type": "code",
   "execution_count": 1,
   "metadata": {},
   "outputs": [],
   "source": [
    "import numpy as np\n",
    "import scipy as sp\n",
    "import matplotlib.pyplot as plt\n",
    "import cuqi\n",
    "from cuqi.distribution import Posterior, Lognormal\n",
    "from cuqi.likelihood import UserDefinedLikelihood\n",
    "from cuqi.sampler import Sampler"
   ]
  },
  {
   "cell_type": "code",
   "execution_count": 2,
   "metadata": {},
   "outputs": [],
   "source": [
    "# set seed\n",
    "np.random.seed(0)"
   ]
  },
  {
   "cell_type": "code",
   "execution_count": 3,
   "metadata": {},
   "outputs": [
    {
     "name": "stdout",
     "output_type": "stream",
     "text": [
      "cuqi version:  0.7.0\n"
     ]
    }
   ],
   "source": [
    "print(\"cuqi version: \", cuqi.__version__)"
   ]
  },
  {
   "cell_type": "markdown",
   "metadata": {},
   "source": [
    "## 0. Bayesian inverse problem\n",
    "Consider the problem of estimating a $\\boldsymbol{\\theta}\\in\\mathbb{R}^d$ in the following equation\n",
    "$$\n",
    "\\boldsymbol{y}=\\mathcal{A}(\\boldsymbol{\\theta}) + \\boldsymbol{e},\n",
    "$$\n",
    "\n",
    "where $\\mathcal{A}: \\mathbb{R}^d \\to \\mathbb{R}^m$ is a nonlinear forward model and $\\boldsymbol{y}$ and $\\boldsymbol{\\theta}$ are random variables representing the observed data and parameter of interest, respectively. Here $\\mathbf{e}$ is a random variable representing additive noise in the data."
   ]
  },
  {
   "cell_type": "markdown",
   "metadata": {},
   "source": [
    "## 1. Defining the forward model\n",
    "The foward model involves the solution of the equation of motion for undamped free vibration, which is the ODE:\n",
    "$$\\boldsymbol{y}=\\mathcal{A}(\\boldsymbol{\\theta}) \\longrightarrow \\boldsymbol{M}\\ddot{\\boldsymbol{u}}(t) + \\boldsymbol{K}(\\boldsymbol{\\theta}){\\boldsymbol{u}(t)} = \\boldsymbol{0}\\qquad \\text{(Option 1)},$$\n",
    "where $\\boldsymbol{M}$ is a deterministic diagonal mass matrix, and $\\boldsymbol{K}(\\boldsymbol{\\theta})$ is a stiffness matrix depending on the uncertain parameters $\\boldsymbol{\\theta}$. These are defined as:\n",
    "$$\\boldsymbol{M} = \\begin{bmatrix} m_1 & 0\\\\ 0 & m_2\\end{bmatrix}\\qquad \\boldsymbol{K}(\\boldsymbol{\\theta}) = \\begin{bmatrix} k_n\\theta_1+k_n\\theta_2 & -k_n\\theta_2\\\\ -k_n\\theta_2 & k_n\\theta_2\\end{bmatrix},$$\n",
    "with masses $m_1=16\\,500$ kg, $m_2=16\\,100$ kg, and nominal stifness $k_n=29.6\\times 10^6$ N/m.\n",
    "\n",
    "This equation can be solved by assuming a harmonic solution of the form $\\boldsymbol{u}=\\boldsymbol{\\Phi}_j\\sin(\\omega_j t)$, where $\\omega_j$ are the circular natural eigenfrequencies and $\\boldsymbol{\\Phi}_j$ are the eigenvectors or modal shapes. By performing differentiation of the harmonic solution and substituting into the equation of motion, we obtain an eigenvalue problem. Therefore, the forward model does not require the solution of the original ODE, instead we can solve:\n",
    "$$\\boldsymbol{y}=\\mathcal{A}(\\boldsymbol{\\theta}) \\longrightarrow \\boldsymbol{K}(\\boldsymbol{\\theta}) \\boldsymbol{\\Phi}_j = \\omega^2_j \\boldsymbol{M} \\boldsymbol{\\Phi}_j\\qquad \\text{(Option 2)},$$\n",
    "from which we obtain $\\omega^2_j$ and $\\boldsymbol{\\Phi}_j$; with the output model eigenfrequencies given by $y_j=\\omega_j/2\\pi$.\n",
    "\n",
    "We start by defining the deterministic information of our model:"
   ]
  },
  {
   "cell_type": "code",
   "execution_count": 4,
   "metadata": {},
   "outputs": [],
   "source": [
    "# set deterministic information of the problem\n",
    "kn = 29.7e6     # nominal values for the interstory stiffnesses [N/m]\n",
    "m1 = 16.5e3     # mass 1st story [kg]\n",
    "m2 = 16.1e3     # mass 2nd story [kg]\n",
    "M = np.array([[m1, 0],[0, m2]])   # diagonal mass matrix\n",
    "d = 2  # number of uncertain parameters"
   ]
  },
  {
   "cell_type": "markdown",
   "metadata": {},
   "source": [
    "With that information we decide to employ the option 2 as forward model. Therefore, we now implement a function solving the underlying eigenvalue problem:"
   ]
  },
  {
   "cell_type": "code",
   "execution_count": 5,
   "metadata": {},
   "outputs": [],
   "source": [
    "#This can be any function representing the forward computation.\n",
    "class eigenproblem:\n",
    "    def __init__(self):\n",
    "        self.Phi = None\n",
    "\n",
    "    def forward(self, theta):    \n",
    "        # Stiffness matrices\n",
    "        k1, k2 = kn*theta[0], kn*theta[1]\n",
    "        K = np.array([[k1+k2, -k2],[-k2, k2]])\n",
    "\n",
    "        # Free response - Modal analysis\n",
    "        w2, Phi = sp.linalg.eig(K, M)       # gen eigenvalue problem\n",
    "        w = np.sqrt(np.real(w2))            # frequencies\n",
    "        f = w/(2*np.pi)                     # natural frequencies [Hz]\n",
    "        idx = np.argsort(f)                 # ordering (ascendent)\n",
    "        \n",
    "        # natural frequencies and vibration modes\n",
    "        f, self.Phi = f[idx], Phi[:, idx]\n",
    "\n",
    "        # Normalizing modes\n",
    "        # fact = np.sqrt(np.diag(Phi.T @ M @ Phi)) # orthogonality property\n",
    "        # Phi = Phi/np.tile(fact, (2,1))\n",
    "        return f"
   ]
  },
  {
   "cell_type": "markdown",
   "metadata": {},
   "source": [
    "In CUQIpy we can wrap our user-defined function to convert it into a CUQIpy model type:"
   ]
  },
  {
   "cell_type": "code",
   "execution_count": 6,
   "metadata": {},
   "outputs": [
    {
     "name": "stdout",
     "output_type": "stream",
     "text": [
      "CUQI Model: _DefaultGeometry1D(2,) -> _DefaultGeometry1D(2,).\n",
      "    Forward parameters: ['theta'].\n"
     ]
    }
   ],
   "source": [
    "my_model = eigenproblem()\n",
    "model_func = cuqi.model.Model(my_model.forward, range_geometry=2, domain_geometry=d)\n",
    "print(model_func)"
   ]
  },
  {
   "cell_type": "markdown",
   "metadata": {},
   "source": [
    "## 2. Prior model\n",
    "Motivated by the positive nature of the stiffness parameters, the prior distribution of $\\boldsymbol{\\theta}$ is assumed to be the product of two log-normal PDFs: \n",
    "$$p(\\boldsymbol{\\theta}) = \\mathcal{L}\\mathcal{N}(\\theta_1; \\mu_1,\\sigma_1)\\,\\mathcal{L}\\mathcal{N}(\\theta_2;\\mu_2,\\sigma_2),$$\n",
    "In CUQIpy we define this prior as:"
   ]
  },
  {
   "cell_type": "code",
   "execution_count": 7,
   "metadata": {},
   "outputs": [
    {
     "data": {
      "image/png": "[encoded data removed]",
      "text/plain": [
       "<Figure size 640x480 with 1 Axes>"
      ]
     },
     "metadata": {},
     "output_type": "display_data"
    }
   ],
   "source": [
    "# prior mean\n",
    "#logmu_pr, logsigma_pr = np.array([1.3, 0.8]), np.array([1, 1])  # logGaussian mean and std\n",
    "mu_pr, sigma_pr = np.array([0.51024, 0.16958]), np.array([0.49787, 0.62667]) # underlying Gaussian params\n",
    "theta = Lognormal(mean=mu_pr, cov=sigma_pr**2)\n",
    "#print(theta.logpdf(np.ones(d)))\n",
    "theta_s = theta.sample(5000)\n",
    "plt.figure()\n",
    "plt.plot(theta_s.samples[0,:], theta_s.samples[1, :], 'r.')\n",
    "plt.show()\n"
   ]
  },
  {
   "cell_type": "markdown",
   "metadata": {},
   "source": [
    "## 3. Likelihood function\n",
    "We use modal data $\\widetilde{\\boldsymbol{y}}=[3.13, 9.83]$ corresponding to measured eigenfrequencies in Hz.\n",
    "\n",
    "The likelihood function is\n",
    "$$p(\\boldsymbol{y}\\,|\\, \\boldsymbol{\\theta}) = \\exp\\left(-\\frac{1}{2\\widetilde{\\sigma}^2}J(\\boldsymbol{\\theta};\\boldsymbol{y})\\right),$$\n",
    "where $\\widetilde{\\sigma}^2=1/(2^8)$ is the noise variance, and $J(\\boldsymbol{\\theta};\\boldsymbol{y})$ is the modal measure-of-fit function which depends on the data and forward model:\n",
    "$$J(\\boldsymbol{\\theta};\\boldsymbol{y})=\\sum_{j=1}^{2} \\widetilde{\\mu}_j^2\\left(\\frac{y_j^2(\\boldsymbol{\\theta})}{\\widetilde{\\boldsymbol{y}}_j^2}-1\\right)^2,$$\n",
    "where $\\widetilde{\\boldsymbol{\\mu}}=[1,1]$ is the mean of prediction error, and we use the notation $y_j^2(\\boldsymbol{\\theta})$ for the $j$-th eigenfrequency obtained by the forward model solution.\n",
    "\n",
    "In CUQIpy we define this particular likelihood as:"
   ]
  },
  {
   "cell_type": "code",
   "execution_count": 8,
   "metadata": {},
   "outputs": [],
   "source": [
    "# measured data\n",
    "y_data = np.array([3.13, 9.83])  # eigenfrequencies in Hz\n",
    "m = len(y_data)\n",
    "\n",
    "# noise parameters\n",
    "mu_obs = np.array([1, 1])  # mean of prediction error\n",
    "s2_y = 1/(2**8)            # noise var\n",
    "lambda_y = 1/s2_y          # noise prec\n",
    "\n",
    "# measure-of-fit function\n",
    "J = lambda theta: sum( (mu_obs**2) * (((model_func(theta)**2)/(y_data**2))-1)**2 )\n",
    "\n",
    "# create an user-defined likelihood\n",
    "logp_like = lambda theta: -0.5*lambda_y*J(theta)\n",
    "y = UserDefinedLikelihood(dim=m, logpdf_func=logp_like, geometry=model_func.range_geometry)"
   ]
  },
  {
   "cell_type": "markdown",
   "metadata": {},
   "source": [
    "## 4. Posterior distribution\n",
    "We build the posterior distribution using the prior and likelihood:"
   ]
  },
  {
   "cell_type": "code",
   "execution_count": 9,
   "metadata": {},
   "outputs": [
    {
     "name": "stdout",
     "output_type": "stream",
     "text": [
      "Posterior(\n",
      "    Equation:\n",
      "\t p(theta|y) ∝ L(theta|y)p(theta)\n",
      "    Densities:\n",
      "\ty ~ CUQI UserDefinedLikelihood function. Parameters ['theta'].\n",
      " \ttheta ~ CUQI Lognormal.\n",
      " )\n"
     ]
    }
   ],
   "source": [
    "posterior = Posterior(prior=theta, likelihood=y)\n",
    "print(posterior)"
   ]
  },
  {
   "cell_type": "markdown",
   "metadata": {},
   "source": [
    "# 5. Sampling the posterior\n",
    "\n",
    "Now that we have defined the posterior distribution for our parameter of interest $\\boldsymbol{\\theta}$ given $\\widetilde{\\boldsymbol{y}}$, we can characterize the parameter and its uncertainty by samples from the posterior distribution. However, in general the posterior is not a simple distribution that we can easily sample from. Instead, we need to rely on Markov Chain Monte Carlo (MCMC) methods to sample from the posterior.\n",
    "\n",
    "As we need the proposed states to be positive, we define the proposal distribution of the Metropolis-Hastings as the prior. This type of MCMC is known as the independence sampler, as the proposed states are independent of the previous ones. One advantage is that we do not need to adapta any step-size parameters.\n"
   ]
  },
  {
   "cell_type": "code",
   "execution_count": 10,
   "metadata": {},
   "outputs": [],
   "source": [
    "class IS(Sampler):\n",
    "    def __init__(self, target, x0=None, dim=None, **kwargs):\n",
    "        \"\"\" Independence sampler (IS) sampler. The proposal is the prior\"\"\"\n",
    "        super().__init__(target, x0=x0, dim=dim, **kwargs)\n",
    "        \n",
    "    @property\n",
    "    def prior(self):\n",
    "        if isinstance(self.target, cuqi.distribution.Posterior):\n",
    "            return self.target.prior\n",
    "        elif isinstance(self.target,tuple) and len(self.target)==2:\n",
    "            return self.target[1]\n",
    "\n",
    "    @property\n",
    "    def likelihood(self):\n",
    "        if isinstance(self.target, cuqi.distribution.Posterior):\n",
    "            return self.target.likelihood\n",
    "        elif isinstance(self.target,tuple) and len(self.target)==2:\n",
    "            return self.target[0]\n",
    "\n",
    "    @Sampler.target.setter \n",
    "    def target(self, value):\n",
    "        if isinstance(value, cuqi.distribution.Posterior):\n",
    "            self._target = value\n",
    "            self._prior_rvs = lambda n: self.prior.sample(n)\n",
    "            self._loglikelihood = lambda x : self.likelihood.logd(x)\n",
    "        elif isinstance(value,tuple) and len(value)==2 and \\\n",
    "             (isinstance(value[0], cuqi.likelihood.Likelihood) or isinstance(value[0], cuqi.likelihood.UserDefinedLikelihood))  and \\\n",
    "             isinstance(value[1], cuqi.distribution.Distribution):\n",
    "            self._target = value\n",
    "            self._prior_rvs = lambda n: self.prior.sample(n)\n",
    "            self._loglikelihood = lambda x : self.likelihood.logd(x)\n",
    "        else:\n",
    "            raise ValueError(f\"To initialize an object of type {self.__class__}, 'target' need to be of type 'cuqi.distribution.Posterior'.\")\n",
    "\n",
    "    @property\n",
    "    def dim(self):\n",
    "        if hasattr(self,'target') and hasattr(self.target,'dim'):\n",
    "            self._dim = self.target.dim\n",
    "        elif hasattr(self,'target') and isinstance(self.target,tuple) and len(self.target)==2:\n",
    "            self._dim = self.target[0].dim\n",
    "        return self._dim\n",
    "        \n",
    "    def _sample_adapt(self, N, Nb):\n",
    "        samples, target_eval, accave = self._sample(N, Nb)\n",
    "        return samples, target_eval, accave\n",
    "    \n",
    "    def _sample(self, N, Nb):\n",
    "        Ns = N+Nb   # number of simulations\n",
    "\n",
    "        # allocation\n",
    "        samples = np.empty((self.dim, Ns))\n",
    "        target_eval = np.empty(Ns)\n",
    "        acc = np.zeros(Ns, dtype=int)\n",
    "\n",
    "        # initial state    \n",
    "        samples[:, 0] = self.x0\n",
    "        target_eval[0] = self._loglikelihood(self.x0)\n",
    "        acc[0] = 1\n",
    "\n",
    "        # run MCMC\n",
    "        for s in range(Ns-1):\n",
    "            # run component by component\n",
    "            samples[:, s+1], target_eval[s+1], acc[s+1] = self.single_update(samples[:, s], target_eval[s])\n",
    "            self._print_progress(s+2,Ns) #s+2 is the sample number, s+1 is index assuming x0 is the first sample\n",
    "            self._call_callback(samples[:, s+1], s+1)\n",
    "\n",
    "        # remove burn-in\n",
    "        samples = samples[:, Nb:]\n",
    "        target_eval = target_eval[Nb:]\n",
    "        accave = acc[Nb:].mean()   \n",
    "        print('\\nAverage acceptance rate:', accave, '\\n')\n",
    "        #\n",
    "        return samples, target_eval, accave\n",
    "\n",
    "    def single_update(self, x_t, target_eval_t):\n",
    "        # propose state\n",
    "        x_star = self._prior_rvs(1)   # sample from the proposal\n",
    "\n",
    "        # evaluate target\n",
    "        target_eval_star = self._loglikelihood(x_star)\n",
    "\n",
    "        # ratio and acceptance probability\n",
    "        ratio = target_eval_star - target_eval_t  # proposal is symmetric\n",
    "        alpha = min(0, ratio)\n",
    "\n",
    "        # accept/reject\n",
    "        u_theta = np.log(np.random.rand())\n",
    "        if (u_theta <= alpha):\n",
    "            x_next = x_star\n",
    "            target_eval_next = target_eval_star\n",
    "            acc = 1\n",
    "        else:\n",
    "            x_next = x_t\n",
    "            target_eval_next = target_eval_t\n",
    "            acc = 0\n",
    "        \n",
    "        return x_next, target_eval_next, acc"
   ]
  },
  {
   "cell_type": "markdown",
   "metadata": {},
   "source": [
    "Now we are ready to set the sampler and run it:"
   ]
  },
  {
   "cell_type": "code",
   "execution_count": 11,
   "metadata": {},
   "outputs": [
    {
     "name": "stdout",
     "output_type": "stream",
     "text": [
      "Sample 1125600 / 2010000"
     ]
    }
   ],
   "source": [
    "# set the sampler\n",
    "sampler = IS(target=posterior, x0=np.array([1, 1]))\n",
    "\n",
    "# run the sampler\n",
    "Nc = int(1e5)\n",
    "Nb = int(1e4)\n",
    "Nt = 20\n",
    "K = int(Nt*Nc)\n",
    "samples = sampler.sample(K, Nb=Nb)\n"
   ]
  },
  {
   "cell_type": "markdown",
   "metadata": {},
   "source": [
    "And finally, we do some postprocessing:"
   ]
  },
  {
   "cell_type": "code",
   "execution_count": null,
   "metadata": {},
   "outputs": [],
   "source": [
    "# assign the posterior samples to each variable and apply thinning Nt\n",
    "theta_1 = samples.samples[0, 0:-1:Nt]\n",
    "theta_2 = samples.samples[1, 0:-1:Nt]\n",
    "mu_pos_1 = np.mean(theta_1)\n",
    "mu_pos_2 = np.mean(theta_2)\n",
    "print('The posterior mean is:', mu_pos_1, mu_pos_2)\n",
    "\n",
    "# plot the chains\n",
    "fig, ax = plt.subplots(2)\n",
    "ax[0].plot(theta_1, 'b-') \n",
    "ax[0].set_xlim(0, Nc)\n",
    "ax[1].plot(theta_2, 'b-')\n",
    "ax[1].set_xlim(0, Nc)\n",
    "\n",
    "fig, ax = plt.subplots(2)\n",
    "ax[0].plot(theta_1, 'b-') \n",
    "ax[0].set_xlim(0, 1000)\n",
    "ax[1].plot(theta_2, 'b-')\n",
    "ax[1].set_xlim(0, 1000)\n",
    "\n",
    "# plot ergodic mean\n",
    "mu_erg_1 = np.array([np.mean(theta_1[:i+1]) for i in range(Nc)])\n",
    "mu_erg_2 = np.array([np.mean(theta_2[:i+1]) for i in range(Nc)])\n",
    "fig, ax = plt.subplots(2)\n",
    "ax[0].plot(mu_erg_1, 'b-')\n",
    "ax[1].plot(mu_erg_2, 'b-')\n",
    "\n",
    "# plot autocorrelation\n",
    "samples.plot_autocorrelation(max_lag=1000)\n",
    "\n",
    "# plot the joint\n",
    "plt.figure()\n",
    "plt.plot(theta_1, theta_2, 'b.')"
   ]
  }
 ],
 "metadata": {
  "kernelspec": {
   "display_name": "Python 3 (ipykernel)",
   "language": "python",
   "name": "python3"
  },
  "language_info": {
   "codemirror_mode": {
    "name": "ipython",
    "version": 3
   },
   "file_extension": ".py",
   "mimetype": "text/x-python",
   "name": "python",
   "nbconvert_exporter": "python",
   "pygments_lexer": "ipython3",
   "version": "3.11.5"
  },
  "vscode": {
   "interpreter": {
    "hash": "bdd0614febdc5d5cb7ca911d6da399e7bdecd3325d4f6cbaa40f1152134ae125"
   }
  }
 },
 "nbformat": 4,
 "nbformat_minor": 4
}
