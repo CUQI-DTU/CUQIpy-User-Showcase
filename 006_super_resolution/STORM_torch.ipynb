{
 "cells": [
  {
   "cell_type": "code",
   "execution_count": 25,
   "metadata": {},
   "outputs": [],
   "source": [
    "import torch\n",
    "from cuqi.distribution import JointDistribution\n",
    "from cuqipy_pytorch.distribution import Gaussian, Lognormal, Laplace\n",
    "from cuqipy_pytorch.sampler import NUTS"
   ]
  },
  {
   "cell_type": "code",
   "execution_count": 26,
   "metadata": {},
   "outputs": [],
   "source": [
    "# -*- coding: utf-8 -*-\n",
    "#  Copyright 2024 Technical University of Denmark\n",
    "#\n",
    "#  Licensed under the Apache License, Version 2.0 (the \"License\");\n",
    "#  you may not use this file except in compliance with the License.\n",
    "#  You may obtain a copy of the License at\n",
    "#\n",
    "#      http://www.apache.org/licenses/LICENSE-2.0\n",
    "#\n",
    "#  Unless required by applicable law or agreed to in writing, software\n",
    "#  distributed under the License is distributed on an \"AS IS\" BASIS,\n",
    "#  WITHOUT WARRANTIES OR CONDITIONS OF ANY KIND, either express or implied.\n",
    "#  See the License for the specific language governing permissions and\n",
    "#  limitations under the License.\n",
    "#\n",
    "#  Authored by: Rafael Flock (DTU)\n",
    "#  Edited by: Chao Zhang (DTU)\n",
    "#  Reviewed by: Jakob Sauer Jørgensen (DTU)"
   ]
  },
  {
   "cell_type": "markdown",
   "metadata": {},
   "source": [
    "# UQ for stochastic optical reconstruction microscopy\n",
    "\n",
    "### Rafael Flock (raff@dtu.dk)\n",
    "\n",
    "In this case study, we perform uncertainty quantification for the problem of stochastic optical reconstruction microscopy (STORM). STORM is a super-resolution microscopy method based on single-molecule stochastic switching, where the goal is to detect molecule positions in live cell imaging. The image is obtained by a microscope detecting the photon count of the (fluorescence) photoactivated molecules. The original problem is solved in [1] by a determistic method. In this notebook, we perform uncertainty quantification in the Bayesian context [2].\n"
   ]
  },
  {
   "cell_type": "code",
   "execution_count": 27,
   "metadata": {},
   "outputs": [],
   "source": [
    "import numpy as np\n",
    "from scipy.stats import lognorm, norm\n",
    "import matplotlib.pyplot as plt\n",
    "from mpl_toolkits.axes_grid1 import make_axes_locatable\n",
    "import pickle\n",
    "import cuqi\n",
    "# from cuqi.distribution import Laplace, Gaussian, JointDistribution\n",
    "# from cuqi.problem import BayesianProblem"
   ]
  },
  {
   "cell_type": "code",
   "execution_count": 28,
   "metadata": {},
   "outputs": [
    {
     "data": {
      "text/plain": [
       "<torch._C.Generator at 0x10cca01f0>"
      ]
     },
     "execution_count": 28,
     "metadata": {},
     "output_type": "execute_result"
    }
   ],
   "source": [
    "np.random.seed(0)\n",
    "torch.manual_seed(0)"
   ]
  },
  {
   "cell_type": "markdown",
   "metadata": {},
   "source": [
    "## 1. Problem description\n",
    "\n",
    "We start by collecting parameters that we will use later in our experiment in a dictionary."
   ]
  },
  {
   "cell_type": "code",
   "execution_count": 29,
   "metadata": {},
   "outputs": [],
   "source": [
    "# parameters\n",
    "par = \\\n",
    "{'N': 50, # number of molecules\n",
    " 's_data': 32, # side length of data image\n",
    " 's_mol': 24, # side length of area in data image where molecules are located\n",
    " 'R': 4, # super-resolution factor\n",
    " 'mode': 3000, # mode of lognormal distribution of molecule photon count\n",
    " 'ph_back': 70, # photon background count\n",
    " 'noise_std': 30, # standard deviation of noise\n",
    " 'pad_width': 1, # for boundary conditions of blurring kernel of instrument\n",
    " 'ext_mode': 'periodic', # boundary condition of blurring kernel\n",
    " 'lognorm_std': 0.417, # standard deviation of lognormal distribution of photon count\n",
    " 'ind_mol_seed': 0, # seed for generation of true molecule positions\n",
    " 'N_pho_seed': 1, # seed for generation of true photon count of molecules\n",
    " 'noise_seed': 2, # seed for noise\n",
    " 'delta': 1.275, # rate parameter of Laplace prior\n",
    "}"
   ]
  },
  {
   "cell_type": "markdown",
   "metadata": {},
   "source": [
    "We also define two functions that help us to switch between image and vector view of our data."
   ]
  },
  {
   "cell_type": "code",
   "execution_count": 30,
   "metadata": {},
   "outputs": [],
   "source": [
    "# ravel/unravel image/vector in column-wise fashion\n",
    "rav = lambda x: np.ravel(x, order='F')\n",
    "unrav = lambda x, s: np.reshape(x, newshape=(s,s), order='F')"
   ]
  },
  {
   "cell_type": "markdown",
   "metadata": {},
   "source": [
    "### Ground truth\n",
    "\n",
    "Let's break down the process to generate the ground-truth image step by step:\n",
    "\n",
    "- generate true molecule positions: the exact positions of 50 molecules are first generated by drawing samples from a uniform distribution.\n",
    "\n",
    "- generate true molecule counts: The exact molecule count/intensity is simulated from a lognormal distribution of given mean and standard deviation.\n",
    "\n",
    "- place molecules in super-resolution image: the generated molecule counts are then placed in an image of higher resolution.\n",
    "\n",
    "- add background photon count: a uniform background value is added to the super-resolution image."
   ]
  },
  {
   "cell_type": "code",
   "execution_count": 31,
   "metadata": {},
   "outputs": [],
   "source": [
    "# true molecule positions\n",
    "x_im_truth = np.zeros((par['s_mol']*par['R'], par['s_mol']*par['R'])) # true image of molecules in super-resolution\n",
    "np.random.seed(par['ind_mol_seed'])\n",
    "ind_mol_crop = np.random.choice(np.arange(x_im_truth.size), size=par['N'], replace=False) # indices of molecule positions\n",
    "\n",
    "# true photon counts\n",
    "lognorm_mean = np.log(par['mode']) + par['lognorm_std']**2 # mean of lognormal distribution based on [1]\n",
    "np.random.seed(par['N_pho_seed'])\n",
    "N_pho = lognorm.rvs(loc=0, s=par['lognorm_std'], scale=np.exp(lognorm_mean), size=par['N']) # photons count of molecules\n",
    "\n",
    "# place photons in super-resolution image\n",
    "x_im_truth[np.unravel_index(ind_mol_crop, shape=(x_im_truth.shape[0], x_im_truth.shape[1]), order='F')] = N_pho\n",
    "x_im_truth = np.pad(x_im_truth, (par['s_data']-par['s_mol'])//2*par['R'], mode='constant', constant_values=0) # no molecules in this area\n",
    "ind_mol = np.nonzero( rav( (x_im_truth > np.zeros((par['s_data']*par['R'], par['s_data']*par['R']))) ) )[0] # indices of molecules in column-stacked vector\n",
    "\n",
    "# # add background photon count\n",
    "# x_im_truth += par['ph_back']"
   ]
  },
  {
   "cell_type": "markdown",
   "metadata": {},
   "source": [
    "### Forward operator and data\n",
    "We now import the full forward operator from external file. The forward operator is represented by a matrix $A_{\\text{mat}}$ that maps the true image of molecules to the data image $y$, so $y_{\\text{truth}}=A_{\\text{mat}}x$. The synthetic data is then generated by adding Gaussian noise of a specific standard deviation to the data image, so $y = y_{\\text{truth}} + \\text{noise}$."
   ]
  },
  {
   "cell_type": "code",
   "execution_count": 32,
   "metadata": {},
   "outputs": [
    {
     "name": "stdout",
     "output_type": "stream",
     "text": [
      "SNR=57.79430039788665\n"
     ]
    }
   ],
   "source": [
    "# load blurring matrix\n",
    "file = open(r'A_4x32_cent', 'rb')\n",
    "A_mat = pickle.load(file)\n",
    "file.close()\n",
    "\n",
    "# true data\n",
    "y_truth = A_mat @ rav(x_im_truth)\n",
    "\n",
    "# noise\n",
    "np.random.seed(par['noise_seed'])\n",
    "N_pho_noise = norm.rvs(scale=par['noise_std'], size=par['s_data']**2)\n",
    "y = y_truth + N_pho_noise\n",
    "print(f\"SNR={np.linalg.norm(y)/np.sqrt(y.size)/par['noise_std']}\") # signal-to-noise-ratio\n",
    "y = torch.tensor(y, dtype=torch.float32)"
   ]
  },
  {
   "cell_type": "markdown",
   "metadata": {},
   "source": [
    "We can plot the true image of molecules and the data image."
   ]
  },
  {
   "cell_type": "code",
   "execution_count": 33,
   "metadata": {},
   "outputs": [
    {
     "data": {
      "image/png": "[encoded data removed]",
      "text/plain": [
       "<Figure size 640x480 with 4 Axes>"
      ]
     },
     "metadata": {},
     "output_type": "display_data"
    }
   ],
   "source": [
    "## plot truth and data\n",
    "fig, ax = plt.subplots(ncols=2)\n",
    "\n",
    "# truth\n",
    "im = ax[0].imshow(x_im_truth, cmap='gray')\n",
    "divider = make_axes_locatable(ax[0])\n",
    "cax = divider.append_axes('right', size='5%', pad=0.05)\n",
    "ax[0].set_title('Truth')\n",
    "fig.colorbar(im, cax=cax, orientation='vertical')\n",
    "\n",
    "# data\n",
    "im = ax[1].imshow(unrav(y, par['s_data']), cmap='gray')\n",
    "divider = make_axes_locatable(ax[1])\n",
    "cax = divider.append_axes('right', size='5%', pad=0.05)\n",
    "ax[1].set_title('Noisy data')\n",
    "fig.colorbar(im, cax=cax, orientation='vertical')\n",
    "\n",
    "plt.tight_layout()\n",
    "plt.show()"
   ]
  },
  {
   "cell_type": "markdown",
   "metadata": {},
   "source": [
    "### Smoothed Laplace prior"
   ]
  },
  {
   "cell_type": "code",
   "execution_count": 34,
   "metadata": {},
   "outputs": [],
   "source": [
    "class LaplaceSmoothed(cuqi.distribution.Distribution):\n",
    "    def __init__(self, location, scale, beta, **kwargs):\n",
    "        super().__init__(**kwargs)\n",
    "        self.location = location\n",
    "        self.scale = scale\n",
    "        self.beta = beta\n",
    "  \n",
    "    def logpdf(self, x):\n",
    "        if isinstance(x, (float,int)):\n",
    "            x = torch.tensor([x])\n",
    "        return torch.sum(torch.log(0.5/self.scale) - torch.sqrt((x-self.location)**2+self.beta)/self.scale)\n",
    "    \n",
    "    def gradient(self, x):\n",
    "        x.requires_grad = True\n",
    "        x.grad = None\n",
    "        Q = self.logpdf(x)     # Forward pass\n",
    "        Q.backward()           # Backward pass\n",
    "        return x.grad\n",
    "\n",
    "    def _sample(self,N=1,rng=None):\n",
    "        return None"
   ]
  },
  {
   "cell_type": "markdown",
   "metadata": {},
   "source": [
    "### Reduced likelihood\n",
    "\n",
    "In [2], we proposed a method, Certified Coordinate Selection, to reduce the dimension of the problem. In brief, we select the components in $x$ that contribute the most to the posterior, so\n",
    "$$x = (x_{\\mathcal{I}}, x_{\\mathcal{I}^C}),$$\n",
    "where $x_{\\mathcal{I}}$ is the selected coordinates. With a proper choose of the set $\\mathcal{I}$, the influence of the prior on the posterior are mainly on $x_{\\mathcal{I}}$. $x_{\\mathcal{I}}$ is computed out of this notebook, and for technical details, we refer the reader to [2].\n",
    "\n",
    "The $x_{\\mathcal{I}}$ is plotted in the following plot as black pixels."
   ]
  },
  {
   "cell_type": "code",
   "execution_count": 35,
   "metadata": {},
   "outputs": [
    {
     "data": {
      "text/plain": [
       "<matplotlib.image.AxesImage at 0x2b6bb1df0>"
      ]
     },
     "execution_count": 35,
     "metadata": {},
     "output_type": "execute_result"
    },
    {
     "data": {
      "image/png": "[encoded data removed]",
      "text/plain": [
       "<Figure size 640x480 with 1 Axes>"
      ]
     },
     "metadata": {},
     "output_type": "display_data"
    }
   ],
   "source": [
    "# truth\n",
    "selected_set = np.load('I.npy')\n",
    "x_selected_set = np.zeros(x_im_truth.shape)\n",
    "fig = plt.figure()\n",
    "\n",
    "temp = rav(x_selected_set)\n",
    "temp[selected_set] = 1\n",
    "x_selected_set = unrav(temp, 128)\n",
    "plt.imshow(x_selected_set, cmap='gray_r')"
   ]
  },
  {
   "cell_type": "markdown",
   "metadata": {},
   "source": [
    "### Posterior sampling with CUQIpy\n",
    "With the above description of the smoothed Laplace prior and reduced likelihood, we are now to define them in CUQIpy.\n",
    "\n",
    "Here we define a `UserDefinedDistribution` by passing by functions `logpdf` and `gradient` from our previous defined `LaplaceSmoothed` object."
   ]
  },
  {
   "cell_type": "code",
   "execution_count": 36,
   "metadata": {},
   "outputs": [],
   "source": [
    "# prior\n",
    "d = len(selected_set) # dimension of the problem after reduction\n",
    "beta = 1e-5 # smoothing parameter\n",
    "# X = Gaussian(mean = torch.zeros(d), cov=1/par['delta']**2)\n",
    "X = LaplaceSmoothed(location = torch.zeros(d), scale=1/par['delta']*torch.ones(d), beta=beta)"
   ]
  },
  {
   "cell_type": "markdown",
   "metadata": {},
   "source": [
    "The reduced forward solver can be defined by selecting specific columns of the full matrix. "
   ]
  },
  {
   "cell_type": "code",
   "execution_count": 37,
   "metadata": {},
   "outputs": [],
   "source": [
    "A_reduced_coo = A_mat[:,selected_set].tocoo()"
   ]
  },
  {
   "cell_type": "code",
   "execution_count": 38,
   "metadata": {},
   "outputs": [],
   "source": [
    "values = A_reduced_coo.data\n",
    "indices = np.vstack((A_reduced_coo.row, A_reduced_coo.col))\n",
    "\n",
    "i = torch.LongTensor(indices)\n",
    "v = torch.FloatTensor(values)\n",
    "shape = A_reduced_coo.shape\n",
    "\n",
    "A_reduced_torch = torch.sparse.FloatTensor(i, v, torch.Size(shape))#.to_dense()"
   ]
  },
  {
   "cell_type": "code",
   "execution_count": 39,
   "metadata": {},
   "outputs": [
    {
     "data": {
      "text/plain": [
       "torch.Size([1024, 1000])"
      ]
     },
     "execution_count": 39,
     "metadata": {},
     "output_type": "execute_result"
    }
   ],
   "source": [
    "A_reduced_torch.shape"
   ]
  },
  {
   "cell_type": "code",
   "execution_count": 40,
   "metadata": {},
   "outputs": [],
   "source": [
    "# A_reduced_mat = xp.from_numpy(A_mat[:,selected_set])\n",
    "# A_reduced = cuqi.model.LinearModel(A_reduced_mat)\n",
    "Y = Gaussian(lambda X: torch.matmul(A_reduced_torch, X), cov= par['noise_std']**2*torch.ones(A_reduced_torch.shape[0]))"
   ]
  },
  {
   "cell_type": "markdown",
   "metadata": {},
   "source": [
    "Then we can define our joint distribution and condition it on the data:"
   ]
  },
  {
   "cell_type": "code",
   "execution_count": 41,
   "metadata": {},
   "outputs": [
    {
     "name": "stdout",
     "output_type": "stream",
     "text": [
      "JointDistribution(\n",
      "    Equation: \n",
      "\tp(X,Y) = p(X)p(Y|X)\n",
      "    Densities: \n",
      "\tX ~ CUQI LaplaceSmoothed.\n",
      "\tY ~ CUQI Gaussian. Conditioning variables ['X'].\n",
      ")\n"
     ]
    }
   ],
   "source": [
    "# joint distribution of X and Y\n",
    "X_Y = JointDistribution(X, Y)\n",
    "print(X_Y)\n",
    "\n",
    "# posterior X|Y=y (condition X,Y on data y)\n",
    "p = X_Y(Y=y)"
   ]
  },
  {
   "cell_type": "code",
   "execution_count": 42,
   "metadata": {},
   "outputs": [
    {
     "data": {
      "text/plain": [
       "_DefaultGeometry1D(1024,)"
      ]
     },
     "execution_count": 42,
     "metadata": {},
     "output_type": "execute_result"
    }
   ],
   "source": [
    "Y.geometry"
   ]
  },
  {
   "cell_type": "markdown",
   "metadata": {},
   "source": [
    "With the posterior object `p` defined, we are ready to draw samples from `p`. As the prior is now equipped with gradient method, we can use gradient-based samplers to draw samplers from the posterior. Here we use the Metroplis-adjusted Langevin algorithm (MALA)."
   ]
  },
  {
   "cell_type": "code",
   "execution_count": 43,
   "metadata": {},
   "outputs": [],
   "source": [
    "torch.manual_seed(0)\n",
    "nuts_sampler = NUTS(p) #4, 8 not working after 15 minutes"
   ]
  },
  {
   "cell_type": "code",
   "execution_count": 44,
   "metadata": {},
   "outputs": [
    {
     "name": "stderr",
     "output_type": "stream",
     "text": [
      "Sample:  84%|████████▍ | 1258/1500 [55:55,  2.41s/it, step size=7.81e-04, acc. prob=0.806]"
     ]
    }
   ],
   "source": [
    "# nuts_samples = nuts_sampler.sample(10000, 5000)\n",
    "nuts_samples = nuts_sampler.sample(1000, 500)"
   ]
  },
  {
   "cell_type": "code",
   "execution_count": null,
   "metadata": {},
   "outputs": [],
   "source": [
    "nuts_samples['X'].plot_trace()"
   ]
  },
  {
   "cell_type": "code",
   "execution_count": null,
   "metadata": {},
   "outputs": [],
   "source": [
    "x_post = np.zeros(16384)\n",
    "x_post[selected_set] = nuts_samples['X'].mean()\n",
    "plt.imshow(unrav(x_post, 128), cmap='gray')\n",
    "plt.colorbar()\n",
    "plt.title(\"Posterior mean of NUTS samples\")"
   ]
  },
  {
   "cell_type": "code",
   "execution_count": null,
   "metadata": {},
   "outputs": [],
   "source": [
    "x_laplace = Laplace(0, 1/par['delta'])\n",
    "x_last_sample = x_laplace.sample(16384).samples.flatten().numpy()\n",
    "x_last_sample[selected_set] = nuts_samples['X'].samples[:,-1]\n",
    "plt.imshow(unrav(x_last_sample, 128), cmap='gray')\n",
    "plt.colorbar()\n",
    "plt.title(\"The last NUTS sample\")"
   ]
  },
  {
   "cell_type": "markdown",
   "metadata": {},
   "source": [
    "### Sampling and sample statistics"
   ]
  },
  {
   "cell_type": "markdown",
   "metadata": {},
   "source": [
    "[1]\n",
    "Zhu, L., Zhang, W., Elnatan, D., Huang, B.: Faster STORM using compressed sensing. Nature Methods 9(7), 721–723 (2012) https://doi.org/10.1038/nmeth.1978\n",
    "\n",
    "[2]\n",
    "Flock, R., Dong, Y., Uribe, F., & Zahm, O.: Certified coordinate selection for high-dimensional Bayesian inversion with Laplace prior. Statistics and Computing. Under Review (2023). https://doi.org/10.21203/rs.3.rs-3471448/v1 "
   ]
  },
  {
   "cell_type": "markdown",
   "metadata": {},
   "source": []
  }
 ],
 "metadata": {
  "kernelspec": {
   "display_name": "env",
   "language": "python",
   "name": "python3"
  },
  "language_info": {
   "codemirror_mode": {
    "name": "ipython",
    "version": 3
   },
   "file_extension": ".py",
   "mimetype": "text/x-python",
   "name": "python",
   "nbconvert_exporter": "python",
   "pygments_lexer": "ipython3",
   "version": "3.12.0"
  }
 },
 "nbformat": 4,
 "nbformat_minor": 2
}
